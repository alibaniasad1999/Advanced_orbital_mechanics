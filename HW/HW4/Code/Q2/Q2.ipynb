{
 "cells": [
  {
   "cell_type": "code",
   "execution_count": 38,
   "metadata": {},
   "outputs": [],
   "source": [
    "import numpy as np"
   ]
  },
  {
   "cell_type": "code",
   "execution_count": 39,
   "metadata": {},
   "outputs": [
    {
     "name": "stdout",
     "output_type": "stream",
     "text": [
      "a_n =  6691.063092378623\n"
     ]
    }
   ],
   "source": [
    "# Qesution 2 #\n",
    "# part a #\n",
    "day2rep = 7.25\n",
    "rev2rep = 115\n",
    "revPday = rev2rep/day2rep\n",
    "i = 14.3 * np.pi/180\n",
    "e = 0.05\n",
    "mu = 398600\n",
    "omega_e = 2*np.pi/86400\n",
    "n = revPday*omega_e\n",
    "a_n = (mu*(1/n)**2)**(1/3)\n",
    "R_e = 6378\n",
    "j2 = 0.00108263\n",
    "print(\"a_n = \", a_n)"
   ]
  },
  {
   "cell_type": "code",
   "execution_count": 40,
   "metadata": {},
   "outputs": [
    {
     "name": "stdout",
     "output_type": "stream",
     "text": [
      "6691.063092378623\n",
      "6588.996779188085\n",
      "6585.797491275337\n",
      "6585.694785239564\n",
      "6585.691485597078\n",
      "a = 6585.691379586709 km\n"
     ]
    }
   ],
   "source": [
    "# algorithm 71 #\n",
    "delta_landa_rev = 2*np.pi*day2rep/rev2rep\n",
    "a = 0\n",
    "while abs(a-a_n) > 0.001:\n",
    "    a = a_n\n",
    "    print(a)\n",
    "    p = a*(1-e**2)\n",
    "    Omega_dot = -3/2*n*j2*(R_e/p)**2*np.cos(i)\n",
    "    delta_landa_period = 2*np.pi*Omega_dot/n\n",
    "    delta_lon = delta_landa_rev + delta_landa_period\n",
    "    n = 2*np.pi*omega_e/delta_lon\n",
    "    a_n = (mu*(1/n)**2)**(1/3)\n",
    "print('a =',a_n,'km')\n",
    "# do while loop #\n"
   ]
  },
  {
   "cell_type": "code",
   "execution_count": 51,
   "metadata": {},
   "outputs": [
    {
     "name": "stdout",
     "output_type": "stream",
     "text": [
      "delta_v = -2.317213293099187 km/s\n",
      "t_drift = 0.001818747728972274 s\n"
     ]
    }
   ],
   "source": [
    "# part b #\n",
    "# acceptabale error = 50 km #\n",
    "# algorithm 71 #\n",
    "delta_landa_accept = 50 # km\n",
    "delta_landa_accept = delta_landa_accept/R_e*2*np.pi\n",
    "da_dt = -8.660200238455588e-10 # HW 3 question 2 part b\n",
    "di_dt = (6.5-4)*1e5/100 # HW 3 question 2 part d\n",
    "p = a_n*(1-e**2)\n",
    "n = np.sqrt(mu/a_n**3)\n",
    "Omega_dot = -3/2*R_e**2*np.cos(i)*j2/p**2\n",
    "dp_da = 3*np.pi/n/a*(1 + 1/2*j2*(R_e/a)**2*(4*np.cos(i)**2 - 1))\n",
    "dp_di = 12/n*np.pi*j2*(R_e/a)**2*np.sin(2*i)\n",
    "dOmegaDot_da = -7/2*Omega_dot/a\n",
    "dOmegaDot_di = -Omega_dot*np.tan(i)\n",
    "p = 2*np.pi/n*(1-3/2*j2*(R_e/a)**2**(3-4*np.sin(i)**2))\n",
    "delta_lnada_rev_nom = (omega_e - Omega_dot)*p\n",
    "dDelta_landa_rev_da = R_e*(omega_e-Omega_dot)*dp_da-dOmegaDot_da*R_e*p\n",
    "dDelta_landa_rev_di = R_e*(omega_e-Omega_dot)*dp_di-dOmegaDot_di*R_e*p\n",
    "\n",
    "k2 = 1/p*(dDelta_landa_rev_da*da_dt + dDelta_landa_rev_di*di_dt)\n",
    "\n",
    "k1 = np.sqrt(abs(2*k2*(2*delta_landa_accept)))\n",
    "\n",
    "t_drift = -k1/k2\n",
    "\n",
    "delta_a = k1*p*(dDelta_landa_rev_da)**(-1)\n",
    "\n",
    "delta_v = n/2*delta_a\n",
    "\n",
    "print('delta_v =',delta_v,'km/s')\n",
    "\n",
    "print('t_drift =',t_drift,'s')\n",
    "\n",
    "\n"
   ]
  }
 ],
 "metadata": {
  "kernelspec": {
   "display_name": ".venv",
   "language": "python",
   "name": "python3"
  },
  "language_info": {
   "codemirror_mode": {
    "name": "ipython",
    "version": 3
   },
   "file_extension": ".py",
   "mimetype": "text/x-python",
   "name": "python",
   "nbconvert_exporter": "python",
   "pygments_lexer": "ipython3",
   "version": "3.8.16"
  },
  "orig_nbformat": 4
 },
 "nbformat": 4,
 "nbformat_minor": 2
}
