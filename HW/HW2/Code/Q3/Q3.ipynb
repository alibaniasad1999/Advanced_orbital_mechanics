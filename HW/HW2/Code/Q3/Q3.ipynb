{
 "cells": [
  {
   "cell_type": "code",
   "execution_count": 4,
   "metadata": {},
   "outputs": [
    {
     "name": "stdout",
     "output_type": "stream",
     "text": [
      "On 2023 Aug 01 at 15:00:00\n"
     ]
    }
   ],
   "source": [
    "from skyfield.api import load\n",
    "import numpy as np\n",
    "\n",
    "# Load the JPL ephemeris\n",
    "eph = load('de440s.bsp')\n",
    "# load time\n",
    "ts = load.timescale()\n",
    "\n",
    "# Define the time of interest\n",
    "t = ts.utc(2023, 8, 1, 15, 0, 0)\n",
    "\n",
    "# check time\n",
    "print(t.utc_strftime('On %Y %b %d at %H:%M:%S'))\n",
    "\n",
    "# Get the position of the Earth at the given time\n",
    "earth = eph['Earth'].at(t)\n",
    "\n",
    "# Get the position vector of the Earth in the J2000 reference frame\n",
    "earth_pos = earth.position.km"
   ]
  },
  {
   "cell_type": "code",
   "execution_count": 2,
   "metadata": {},
   "outputs": [],
   "source": [
    "# Get the position of the Sun relative to the Earth at the given time\n",
    "sun = eph['Sun'].at(t)\n",
    "\n",
    "# Get the position vector of the Sun relative to the Earth in the J2000 reference frame\n",
    "sun_pos = sun.position.km - earth_pos"
   ]
  },
  {
   "cell_type": "code",
   "execution_count": 6,
   "metadata": {},
   "outputs": [
    {
     "name": "stdout",
     "output_type": "stream",
     "text": [
      "The satellite is in the umbra.\n"
     ]
    },
    {
     "name": "stderr",
     "output_type": "stream",
     "text": [
      "/var/folders/cf/x6zpxdwn2dg40q0c0r418f7c0000gp/T/ipykernel_3645/3871601537.py:25: RuntimeWarning: invalid value encountered in arcsin\n",
      "  r_umbral = np.arcsin(R_e/(R_e-s))*r\n"
     ]
    }
   ],
   "source": [
    "# Compute the position vector from the Earth to the satellite\n",
    "r_sat = np.array([-346, 8265, 4680])  # km\n",
    "r_earth = earth.position.km\n",
    "r_vec = r_sat - r_earth\n",
    "\n",
    "# Compute the distance from the Earth to the satellite\n",
    "r = np.linalg.norm(r_vec)\n",
    "\n",
    "# Compute the apparent radius of the Earth as seen from the satellite\n",
    "R_e = 6378.137  # km (mean equatorial radius of the Earth)\n",
    "rho = np.arcsin(R_e/r)\n",
    "\n",
    "# Compute the angle between the satellite position vector and the vector to the center of the Earth\n",
    "theta = np.arccos(np.dot(r_vec, -r_earth)/(r*np.linalg.norm(-r_earth)))\n",
    "\n",
    "# Compute the distance from the satellite to the edge of the Earth's shadow\n",
    "s = R_e*np.tan(theta+rho)\n",
    "\n",
    "# Determine whether the satellite is in the shadow or not\n",
    "if s >= r:\n",
    "    print(\"The satellite has a clear view of the Sun.\")\n",
    "else:\n",
    "    # Compute the penumbral and umbral radii\n",
    "    r_penum = np.arcsin(R_e/(R_e+s))*r\n",
    "    r_umbral = np.arcsin(R_e/(R_e-s))*r\n",
    "    if r >= r_umbral:\n",
    "        print(\"The satellite is in the penumbra.\")\n",
    "    elif r <= r_penum:\n",
    "        print(\"The satellite is in the umbra.\")"
   ]
  }
 ],
 "metadata": {
  "kernelspec": {
   "display_name": "Python 3",
   "language": "python",
   "name": "python3"
  },
  "language_info": {
   "codemirror_mode": {
    "name": "ipython",
    "version": 3
   },
   "file_extension": ".py",
   "mimetype": "text/x-python",
   "name": "python",
   "nbconvert_exporter": "python",
   "pygments_lexer": "ipython3",
   "version": "3.10.2"
  },
  "orig_nbformat": 4
 },
 "nbformat": 4,
 "nbformat_minor": 2
}
