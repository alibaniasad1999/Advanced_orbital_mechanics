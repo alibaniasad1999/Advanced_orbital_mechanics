{
 "cells": [
  {
   "cell_type": "code",
   "execution_count": 1,
   "metadata": {},
   "outputs": [],
   "source": [
    "import numpy as np\n",
    "from astropy.coordinates import CartesianRepresentation, GCRS, ITRS\n",
    "from astropy.coordinates import EarthLocation, AltAz, get_body\n",
    "from astropy.coordinates import Angle\n",
    "from astropy.coordinates import EarthLocation\n",
    "from astropy.coordinates import Longitude\n",
    "from astropy.time import Time\n",
    "import astropy.units as u"
   ]
  },
  {
   "cell_type": "code",
   "execution_count": 2,
   "metadata": {},
   "outputs": [],
   "source": [
    "## Q1 ##\n",
    "## ECEF to LatLon ##\n",
    "\n",
    "## load data ##\n",
    "\n",
    "r_vec = np.array([6789, 6893, 7035])"
   ]
  },
  {
   "cell_type": "code",
   "execution_count": 3,
   "metadata": {},
   "outputs": [
    {
     "name": "stdout",
     "output_type": "stream",
     "text": [
      "36.119599461442455 45.435509889654405 5591.508677843313\n"
     ]
    }
   ],
   "source": [
    "from latlon import ecef2latlon\n",
    "\n",
    "phi, landa, h_ellp = ecef2latlon(r_vec)\n",
    "\n",
    "print(phi*180/np.pi, landa*180/np.pi, h_ellp)"
   ]
  },
  {
   "cell_type": "code",
   "execution_count": 5,
   "metadata": {},
   "outputs": [
    {
     "name": "stdout",
     "output_type": "stream",
     "text": [
      "Position vector in GCRF: [ -862.5395007  -9634.74706215  7037.24872788]\n"
     ]
    }
   ],
   "source": [
    "## part b ##\n",
    "# ITRF to GCRF ##\n",
    "\n",
    "# Define the ITRF position vector in km\n",
    "r_itrf_km = [6789, 6893, 7035]\n",
    "\n",
    "# Define the time of the observation\n",
    "t = Time('2023-05-02T00:00:00', scale='utc')\n",
    "\n",
    "# Convert the ITRF position vector to a CartesianRepresentation object\n",
    "r_itrf = CartesianRepresentation(r_itrf_km, unit='km')\n",
    "\n",
    "# Create an ITRS object with the ITRF position vector and time\n",
    "itrs = ITRS(r_itrf, obstime=t)\n",
    "\n",
    "# Convert the ITRS object to a GCRS object\n",
    "gcrs = itrs.transform_to(GCRS(obstime=t))\n",
    "\n",
    "# Extract the GCRF position vector in km\n",
    "r_gcrf_km = gcrs.cartesian.xyz.value\n",
    "\n",
    "print(\"Position vector in GCRF:\", r_gcrf_km)\n"
   ]
  },
  {
   "cell_type": "code",
   "execution_count": 6,
   "metadata": {},
   "outputs": [
    {
     "name": "stdout",
     "output_type": "stream",
     "text": [
      "GMST: 112.77872258804781\n",
      "LST: 149.7787225880478\n"
     ]
    }
   ],
   "source": [
    "## part c ##\n",
    "## GMST and LST ##\n",
    "\n",
    "# Define the longitude of the observation location in degrees\n",
    "lon = Longitude('37.0', unit='deg')\n",
    "\n",
    "# Define the location of the observation on Earth's surface\n",
    "loc = EarthLocation(lon=lon, lat=0.0*u.deg, height=0.0*u.m)\n",
    "\n",
    "# Define the time of the observation\n",
    "t = Time('2023-04-30T14:30:00', scale='utc', location=loc)\n",
    "\n",
    "# Calculate the GMST at the specified time\n",
    "gmst = t.sidereal_time('mean')\n",
    "\n",
    "# Convert the GMST to degrees\n",
    "theta_GMST = gmst.to_value(u.deg)\n",
    "\n",
    "# Calculate the local sidereal time (LST) at the specified location and time\n",
    "lst = Angle(theta_GMST, unit='deg') + loc.lon\n",
    "\n",
    "# Convert the LST to degrees\n",
    "theta_LST = lst.to_value(u.deg)\n",
    "\n",
    "print(\"GMST:\", theta_GMST)\n",
    "print(\"LST:\", theta_LST)\n"
   ]
  }
 ],
 "metadata": {
  "kernelspec": {
   "display_name": "Python 3",
   "language": "python",
   "name": "python3"
  },
  "language_info": {
   "codemirror_mode": {
    "name": "ipython",
    "version": 3
   },
   "file_extension": ".py",
   "mimetype": "text/x-python",
   "name": "python",
   "nbconvert_exporter": "python",
   "pygments_lexer": "ipython3",
   "version": "3.10.2"
  },
  "orig_nbformat": 4
 },
 "nbformat": 4,
 "nbformat_minor": 2
}
