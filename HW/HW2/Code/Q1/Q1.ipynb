{
 "cells": [
  {
   "cell_type": "code",
   "execution_count": 1,
   "metadata": {},
   "outputs": [],
   "source": [
    "import numpy as np\n",
    "from astropy.coordinates import CartesianRepresentation, GCRS, ITRS\n",
    "from astropy.coordinates import EarthLocation, AltAz, get_body\n",
    "from astropy.coordinates import Angle\n",
    "from astropy.coordinates import EarthLocation\n",
    "from astropy.coordinates import Longitude\n",
    "from astropy.time import Time\n",
    "import astropy.units as u"
   ]
  },
  {
   "cell_type": "code",
   "execution_count": 2,
   "metadata": {},
   "outputs": [],
   "source": [
    "## Q1 ##\n",
    "## ECEF to LatLon ##\n",
    "\n",
    "## load data ##\n",
    "\n",
    "r_vec = np.array([6789, 6893, 7035])"
   ]
  },
  {
   "cell_type": "code",
   "execution_count": 3,
   "metadata": {},
   "outputs": [
    {
     "name": "stdout",
     "output_type": "stream",
     "text": [
      "36.119599461442455 45.435509889654405 5591.508677843313\n"
     ]
    }
   ],
   "source": [
    "from latlon import ecef2latlon\n",
    "\n",
    "phi, landa, h_ellp = ecef2latlon(r_vec)\n",
    "\n",
    "print(phi*180/np.pi, landa*180/np.pi, h_ellp)"
   ]
  },
  {
   "cell_type": "code",
   "execution_count": 5,
   "metadata": {},
   "outputs": [
    {
     "name": "stdout",
     "output_type": "stream",
     "text": [
      "Position vector in GCRF: [ -862.5395007  -9634.74706215  7037.24872788]\n"
     ]
    }
   ],
   "source": [
    "## part b ##\n",
    "# ITRF to GCRF ##\n",
    "\n",
    "# Define the ITRF position vector in km\n",
    "r_itrf_km = [6789, 6893, 7035]\n",
    "\n",
    "# Define the time of the observation\n",
    "t = Time('2023-05-02T00:00:00', scale='utc')\n",
    "\n",
    "# Convert the ITRF position vector to a CartesianRepresentation object\n",
    "r_itrf = CartesianRepresentation(r_itrf_km, unit='km')\n",
    "\n",
    "# Create an ITRS object with the ITRF position vector and time\n",
    "itrs = ITRS(r_itrf, obstime=t)\n",
    "\n",
    "# Convert the ITRS object to a GCRS object\n",
    "gcrs = itrs.transform_to(GCRS(obstime=t))\n",
    "\n",
    "# Extract the GCRF position vector in km\n",
    "r_gcrf_km = gcrs.cartesian.xyz.value\n",
    "\n",
    "print(\"Position vector in GCRF:\", r_gcrf_km)\n"
   ]
  },
  {
   "cell_type": "code",
   "execution_count": 6,
   "metadata": {},
   "outputs": [
    {
     "name": "stdout",
     "output_type": "stream",
     "text": [
      "GMST: 112.77872258804781\n",
      "LST: 149.7787225880478\n"
     ]
    }
   ],
   "source": [
    "## part c ##\n",
    "## GMST and LST ##\n",
    "\n",
    "# Define the longitude of the observation location in degrees\n",
    "lon = Longitude('37.0', unit='deg')\n",
    "\n",
    "# Define the location of the observation on Earth's surface\n",
    "loc = EarthLocation(lon=lon, lat=0.0*u.deg, height=0.0*u.m)\n",
    "\n",
    "# Define the time of the observation\n",
    "t = Time('2023-04-30T14:30:00', scale='utc', location=loc)\n",
    "\n",
    "# Calculate the GMST at the specified time\n",
    "gmst = t.sidereal_time('mean')\n",
    "\n",
    "# Convert the GMST to degrees\n",
    "theta_GMST = gmst.to_value(u.deg)\n",
    "\n",
    "# Calculate the local sidereal time (LST) at the specified location and time\n",
    "lst = Angle(theta_GMST, unit='deg') + loc.lon\n",
    "\n",
    "# Convert the LST to degrees\n",
    "theta_LST = lst.to_value(u.deg)\n",
    "\n",
    "print(\"GMST:\", theta_GMST)\n",
    "print(\"LST:\", theta_LST)\n"
   ]
  },
  {
   "cell_type": "code",
   "execution_count": 7,
   "metadata": {},
   "outputs": [
    {
     "ename": "NameError",
     "evalue": "name 'lat' is not defined",
     "output_type": "error",
     "traceback": [
      "\u001b[0;31m---------------------------------------------------------------------------\u001b[0m",
      "\u001b[0;31mNameError\u001b[0m                                 Traceback (most recent call last)",
      "Cell \u001b[0;32mIn[7], line 7\u001b[0m\n\u001b[1;32m      4\u001b[0m eph \u001b[39m=\u001b[39m load(\u001b[39m'\u001b[39m\u001b[39mde421.bsp\u001b[39m\u001b[39m'\u001b[39m)\n\u001b[1;32m      6\u001b[0m \u001b[39m# Define a Topos object for the ground station\u001b[39;00m\n\u001b[0;32m----> 7\u001b[0m ground_topos \u001b[39m=\u001b[39m Topos(latitude_degrees\u001b[39m=\u001b[39mlat, longitude_degrees\u001b[39m=\u001b[39mlon)\n\u001b[1;32m      9\u001b[0m \u001b[39m# Define the start and end times for the observation period\u001b[39;00m\n\u001b[1;32m     10\u001b[0m start_time \u001b[39m=\u001b[39m obs_time\u001b[39m.\u001b[39mutc\n",
      "\u001b[0;31mNameError\u001b[0m: name 'lat' is not defined"
     ]
    }
   ],
   "source": [
    "from skyfield.api import Topos, load\n",
    "\n",
    "# Load the JPL ephemeris for the solar system bodies\n",
    "eph = load('de421.bsp')\n",
    "\n",
    "# Define a Topos object for the ground station\n",
    "ground_topos = Topos(latitude_degrees=lat, longitude_degrees=lon)\n",
    "\n",
    "# Define the start and end times for the observation period\n",
    "start_time = obs_time.utc\n",
    "end_time = (obs_time + 2*24*3600).utc\n",
    "\n",
    "# Define the time step for the observation period\n",
    "time_step = 60  # seconds\n",
    "\n",
    "# Initialize lists to store the times and elevation angles\n",
    "times = []\n",
    "elevations = []\n",
    "\n",
    "# Loop over the time range, calculating the elevation angle of the ISS relative to the ground station at each time step\n",
    "for t in range(start_time, end_time, time_step):\n",
    "    # Convert the time to a Skyfield time object\n",
    "    skyfield_time = load.timescale().utc(t)\n",
    "\n",
    "    # Get the position of the ISS relative to the ground station\n",
    "    iss_pos_relative = ground_topos.at(skyfield_time).observe(get_body_barycentric('ISS', skyfield_time)).apparent().position.au\n",
    "    iss_pos_relative_km = iss_pos_relative * 149597870.7  # convert from AU to km\n",
    "\n",
    "    # Calculate the elevation angle of the ISS relative to the ground station\n",
    "    r = iss_pos_relative_km - ground_pos_ecef.xyz.value\n",
    "    r_norm = np.linalg.norm(r)\n",
    "    elev = np.arcsin(r[2] / r_norm)\n",
    "\n",
    "    # Append\n"
   ]
  },
  {
   "cell_type": "code",
   "execution_count": 12,
   "metadata": {},
   "outputs": [
    {
     "name": "stderr",
     "output_type": "stream",
     "text": [
      "WARNING: TimeDeltaMissingUnitWarning: Numerical value without unit or explicit format passed to TimeDelta, assuming days [astropy.time.core]\n",
      "/Users/Ali/Documents/BAI/Master/Advanced_orbital_mechanics/HW/HW2/Code/Q4/myenv/lib/python3.10/site-packages/erfa/core.py:154: ErfaWarning: ERFA function \"taiutc\" yielded 1 of \"dubious year (Note 4)\"\n",
      "  warnings.warn('ERFA function \"{}\" yielded {}'.format(func_name, wmsg),\n"
     ]
    },
    {
     "ename": "TypeError",
     "evalue": "'Time' object cannot be interpreted as an integer",
     "output_type": "error",
     "traceback": [
      "\u001b[0;31m---------------------------------------------------------------------------\u001b[0m",
      "\u001b[0;31mTypeError\u001b[0m                                 Traceback (most recent call last)",
      "Cell \u001b[0;32mIn[12], line 42\u001b[0m\n\u001b[1;32m     39\u001b[0m total_view_time \u001b[39m=\u001b[39m \u001b[39m0\u001b[39m\n\u001b[1;32m     41\u001b[0m \u001b[39m# Loop over the time range, calculating the elevation angle of the ISS relative to the ground station at each time step\u001b[39;00m\n\u001b[0;32m---> 42\u001b[0m \u001b[39mfor\u001b[39;00m t \u001b[39min\u001b[39;00m \u001b[39mrange\u001b[39;49m(start_time, end_time, time_step):\n\u001b[1;32m     43\u001b[0m     \u001b[39m# Convert the time to a Skyfield time object\u001b[39;00m\n\u001b[1;32m     44\u001b[0m     skyfield_time \u001b[39m=\u001b[39m load\u001b[39m.\u001b[39mtimescale()\u001b[39m.\u001b[39mutc(t)\n\u001b[1;32m     46\u001b[0m     \u001b[39m# Get the position of the ISS relative to the ground station\u001b[39;00m\n",
      "\u001b[0;31mTypeError\u001b[0m: 'Time' object cannot be interpreted as an integer"
     ]
    }
   ],
   "source": [
    "# import library\n",
    "import numpy as np\n",
    "from astropy.coordinates import EarthLocation, AltAz, get_body\n",
    "from astropy.coordinates import Angle\n",
    "from astropy.coordinates import EarthLocation\n",
    "from astropy.coordinates import Longitude\n",
    "from astropy.time import Time\n",
    "\n",
    "\n",
    "\n",
    "loc = EarthLocation(lon=lon, lat=0.0*u.deg, height=0.0*u.m)\n",
    "obs_time = Time('2023-04-30T14:30:00', scale='utc', location=loc)\n",
    "\n",
    "\n",
    "# Define the start and end times for the observation period\n",
    "start_time = obs_time.utc\n",
    "end_time = (obs_time + 2*24*3600).utc\n",
    "\n",
    "# Define the time step for the observation period\n",
    "time_step = 60  # seconds\n",
    "\n",
    "# Define a range of latitudes and longitudes to search over\n",
    "latitudes = np.arange(-90, 90, 0.1)\n",
    "longitudes = np.arange(-180, 180, 0.1)\n",
    "\n",
    "# Initialize a dictionary to store the total view time for each location\n",
    "view_times = {}\n",
    "\n",
    "# Loop over the latitude and longitude ranges, calculating the total view time for each location\n",
    "for lat in latitudes:\n",
    "    for lon in longitudes:\n",
    "        # Define the EarthLocation object for the current location\n",
    "        ground_loc = EarthLocation.from_geodetic(lon=lon, lat=lat, height=0)\n",
    "\n",
    "        # Get the ECEF position vector of the ground station at the observation time\n",
    "        ground_pos_ecef = ground_loc.get_gcrs(obstime=obs_time).transform_to(ITRS(obstime=obs_time)).cartesian\n",
    "\n",
    "        # Initialize a variable to store the total view time for the current location\n",
    "        total_view_time = 0\n",
    "\n",
    "        # Loop over the time range, calculating the elevation angle of the ISS relative to the ground station at each time step\n",
    "        for t in range(start_time, end_time, time_step):\n",
    "            # Convert the time to a Skyfield time object\n",
    "            skyfield_time = load.timescale().utc(t)\n",
    "\n",
    "            # Get the position of the ISS relative to the ground station\n",
    "            iss_pos_relative = ground_topos.at(skyfield_time).observe(get_body_barycentric('ISS', skyfield_time)).apparent().position.au\n",
    "            iss_pos_relative_km = iss_pos_relative * 149597870.7  # convert from AU to km\n",
    "\n",
    "            # Calculate the elevation angle of the ISS relative to the ground station\n",
    "            r = iss_pos_relative_km - ground_pos_ecef.xyz.value\n",
    "            r_norm = np.linalg.norm(r)\n",
    "            elev = np.arcsin(r[2] / r_norm)\n",
    "\n",
    "            # If the elevation angle is greater than zero, add the time step to the total view time\n",
    "            if elev > 0:\n",
    "                total_view_time += time_step\n",
    "\n",
    "        # Store the total view time for the current location in the dictionary\n",
    "        view_times[(lat, lon)] = total_view_time\n",
    "\n",
    "# Find the location with the highest total view time\n",
    "best_location = max(view_times, key=view_times.get)\n",
    "\n",
    "print(f\"The best location for the ground station is at latitude {best_location[0]:.2f} degrees and longitude {best_location[1]:.2f} degrees, with a total view time of {view_times[best_location]/3600:.2f} hours over the 48 hour period.\")\n"
   ]
  }
 ],
 "metadata": {
  "kernelspec": {
   "display_name": "Python 3",
   "language": "python",
   "name": "python3"
  },
  "language_info": {
   "codemirror_mode": {
    "name": "ipython",
    "version": 3
   },
   "file_extension": ".py",
   "mimetype": "text/x-python",
   "name": "python",
   "nbconvert_exporter": "python",
   "pygments_lexer": "ipython3",
   "version": "3.10.2"
  },
  "orig_nbformat": 4
 },
 "nbformat": 4,
 "nbformat_minor": 2
}
