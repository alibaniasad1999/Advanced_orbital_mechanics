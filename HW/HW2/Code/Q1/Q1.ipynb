{
 "cells": [
  {
   "cell_type": "code",
   "execution_count": 1,
   "metadata": {},
   "outputs": [],
   "source": [
    "## Q1 ##\n",
    "## ECEF to LatLon ##\n",
    "\n",
    "import numpy as np"
   ]
  },
  {
   "cell_type": "code",
   "execution_count": 2,
   "metadata": {},
   "outputs": [],
   "source": [
    "## load data ##\n",
    "\n",
    "r_vec = np.array([6789, 6893, 7035])"
   ]
  },
  {
   "cell_type": "code",
   "execution_count": 4,
   "metadata": {},
   "outputs": [
    {
     "name": "stdout",
     "output_type": "stream",
     "text": [
      "36.119599461442455 45.435509889654405 5591.508677843313\n"
     ]
    }
   ],
   "source": [
    "from latlon import ecef2latlon\n",
    "\n",
    "phi, landa, h_ellp = ecef2latlon(r_vec)\n",
    "\n",
    "print(phi*180/np.pi, landa*180/np.pi, h_ellp)"
   ]
  }
 ],
 "metadata": {
  "kernelspec": {
   "display_name": "Python 3",
   "language": "python",
   "name": "python3"
  },
  "language_info": {
   "codemirror_mode": {
    "name": "ipython",
    "version": 3
   },
   "file_extension": ".py",
   "mimetype": "text/x-python",
   "name": "python",
   "nbconvert_exporter": "python",
   "pygments_lexer": "ipython3",
   "version": "3.11.2"
  },
  "orig_nbformat": 4
 },
 "nbformat": 4,
 "nbformat_minor": 2
}
