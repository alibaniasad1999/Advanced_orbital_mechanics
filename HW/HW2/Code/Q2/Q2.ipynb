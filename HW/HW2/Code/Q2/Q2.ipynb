{
 "cells": [
  {
   "cell_type": "code",
   "execution_count": 1,
   "metadata": {},
   "outputs": [],
   "source": [
    "import numpy as np\n",
    "from astropy import coordinates\n",
    "from astropy import units as u\n",
    "from astropy.coordinates import CartesianRepresentation, CartesianDifferential, GCRS, ITRS, EarthLocation"
   ]
  },
  {
   "cell_type": "code",
   "execution_count": 2,
   "metadata": {},
   "outputs": [
    {
     "name": "stdout",
     "output_type": "stream",
     "text": [
      "{'s': <CartesianDifferential (d_x, d_y, d_z) in km / s\n",
      "    (-2.3044939, 2.89752149, 2.70302163)>}\n",
      "Position in perifocal coordinates: [-2.47582588e+08 -1.28929572e+08  4.68025283e+03]\n",
      "Velocity in perifocal coordinates: [ 1.00315250e+05 -7.44616658e+04  2.70302163e+00]\n"
     ]
    }
   ],
   "source": [
    "## Q2 ##\n",
    "## ECI to orbit plane coordinates ##\n",
    "\n",
    "# Define the position and velocity vectors in ECI coordinates\n",
    "r_eci = [-346, 8265, 4680] # km\n",
    "v_eci = [-2.657, -1.73, 2.703] # km/s\n",
    "\n",
    "# Define the Earth location\n",
    "lat = 0 * u.deg\n",
    "lon = 0 * u.deg\n",
    "height = 0 * u.m\n",
    "earth_loc = EarthLocation.from_geodetic(lon, lat, height)\n",
    "\n",
    "# Define the time of observation\n",
    "time_obs = 'J2000'\n",
    "\n",
    "# put velocities into cartesian differential\n",
    "cartdiff = coordinates.CartesianDifferential(*v_eci, unit='km/s')\n",
    "cartrep = coordinates.CartesianRepresentation(*r_eci, unit=u.km, differentials=cartdiff)\n",
    "\n",
    "# Convert GCRS to ITRS\n",
    "gcrs = coordinates.ITRS(cartrep, obstime=time_obs)\n",
    "itrs = gcrs.transform_to(coordinates.GCRS(obstime=time_obs))\n",
    "\n",
    "itrs_pos = itrs.cartesian.xyz\n",
    "itrs_vel = itrs.cartesian.differentials\n",
    "\n",
    "# Define the angular momentum vector and the z-axis vector\n",
    "h = np.cross(itrs_pos, itrs_vel['s'].get_d_xyz(xyz_axis=0).value)\n",
    "z = np.array([0, 0, 1])\n",
    "\n",
    "# Define the perifocal coordinate system\n",
    "x = np.cross(h, z)\n",
    "y = np.cross(z, x)\n",
    "\n",
    "# Define the transformation matrix from ECI to perifocal coordinates\n",
    "eci_to_perifocal = np.vstack((x.value, y.value, z))\n",
    "\n",
    "# Convert the position and velocity vectors from ECI to perifocal coordinates\n",
    "r_perifocal = eci_to_perifocal.dot(itrs_pos.value)\n",
    "v_perifocal = eci_to_perifocal.dot(itrs_vel['s'].get_d_xyz(xyz_axis=0).value)\n",
    "\n",
    "# Print the results\n",
    "print('Position in perifocal coordinates:', r_perifocal)\n",
    "print('Velocity in perifocal coordinates:', v_perifocal)\n"
   ]
  }
 ],
 "metadata": {
  "kernelspec": {
   "display_name": "Python 3",
   "language": "python",
   "name": "python3"
  },
  "language_info": {
   "codemirror_mode": {
    "name": "ipython",
    "version": 3
   },
   "file_extension": ".py",
   "mimetype": "text/x-python",
   "name": "python",
   "nbconvert_exporter": "python",
   "pygments_lexer": "ipython3",
   "version": "3.11.2"
  },
  "orig_nbformat": 4
 },
 "nbformat": 4,
 "nbformat_minor": 2
}
