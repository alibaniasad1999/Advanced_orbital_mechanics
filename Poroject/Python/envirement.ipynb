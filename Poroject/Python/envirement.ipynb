{
 "cells": [
  {
   "cell_type": "code",
   "execution_count": null,
   "metadata": {},
   "outputs": [],
   "source": [
    "## three body envirement ##\n",
    "## f(x, u) ##\n",
    "## x = dot_x, dot_y, x, y ##\n",
    "## u_x, u_y ##"
   ]
  },
  {
   "cell_type": "code",
   "execution_count": 1,
   "metadata": {},
   "outputs": [],
   "source": [
    "## import libraries ##\n",
    "import numpy as np\n",
    "import matplotlib.pyplot as plt\n",
    "from scipy.integrate import solve_ivp\n",
    "from scipy.optimize import minimize"
   ]
  },
  {
   "cell_type": "code",
   "execution_count": 2,
   "metadata": {},
   "outputs": [],
   "source": [
    "# Define the equations of motion for the CRTBP\n",
    "def crtbp_equations(t, y, mu):\n",
    "    x, y, vx, vy = y\n",
    "    \n",
    "    r1 = np.sqrt((x + mu) ** 2 + y ** 2)\n",
    "    r2 = np.sqrt((x - 1 + mu) ** 2 + y ** 2)\n",
    "    \n",
    "    x_double_dot = 2 * vy + x - ((1 - mu) * (x + mu)) / r1 ** 3 - (mu * (x - 1 + mu)) / r2 ** 3\n",
    "    y_double_dot = -2 * vx + y - ((1 - mu) * y) / r1 ** 3 - (mu * y) / r2 ** 3\n",
    "    \n",
    "    return [vx, vy, x_double_dot, y_double_dot]\n",
    "\n",
    "# Function to calculate the distance between two points\n",
    "def distance(p1, p2):\n",
    "    return np.sqrt((p1[0] - p2[0]) ** 2 + (p1[1] - p2[1]) ** 2)\n",
    "\n",
    "# Function to find the final position of the Lyapunov orbit for a given set of initial conditions\n",
    "def lyapunov_final_position(mu, initial_conditions, t_span):\n",
    "    solution = solve_ivp(lambda t, y: crtbp_equations(t, y, mu), t_span, initial_conditions, method='RK45',\n",
    "                         atol = 0.00001, rtol = 0.00001, max_step=0.001)\n",
    "    x = solution.y[0][-1]\n",
    "    y = solution.y[1][-1]\n",
    "    return [x, y]"
   ]
  },
  {
   "cell_type": "code",
   "execution_count": 4,
   "metadata": {},
   "outputs": [
    {
     "name": "stdout",
     "output_type": "stream",
     "text": [
      "iteration number: 0\n",
      "iteration number: 1\n",
      "iteration number: 2\n",
      "iteration number: 3\n",
      "[ 0.84570558 -0.03839846  0.49780777  0.21527816]\n"
     ]
    }
   ],
   "source": [
    "## lyapunov orbit in L1 lagrangian point ##\n",
    "# Function to minimize the distance between the final position of the orbit and the target point\n",
    "def lyapunov_minimization_function(initial_conditions, mu, target_point, t_span):\n",
    "    final_position = lyapunov_final_position(mu, initial_conditions, t_span)\n",
    "    return distance(final_position, target_point)\n",
    "\n",
    "# Function to find the initial conditions of the Lyapunov orbit\n",
    "def lyapunov_initial_conditions(mu, target_point, t_span):\n",
    "    initial_conditions = np.array([0.8, 0, 0, 0.5])\n",
    "    result = minimize(lambda initial_conditions: lyapunov_minimization_function(initial_conditions, mu, target_point, t_span), initial_conditions, method='Nelder-Mead')\n",
    "    return result.x\n",
    "\n",
    "## three body envirement ##\n",
    "# Function to calculate the distance between two points\n",
    "def distance(p1, p2):\n",
    "    return np.sqrt((p1[0] - p2[0]) ** 2 + (p1[1] - p2[1]) ** 2)\n",
    "\n",
    "# Function to calculate the acceleration of the spacecraft\n",
    "def acceleration(t, y, mu, target_point, t_span):\n",
    "    x, y, vx, vy = y\n",
    "    \n",
    "    # Find the initial conditions of the Lyapunov orbit\n",
    "    initial_conditions = lyapunov_initial_conditions(mu, target_point, t_span)\n",
    "    \n",
    "    # Find the final position of the Lyapunov orbit\n",
    "    final_position = lyapunov_final_position(mu, initial_conditions, t_span)\n",
    "    \n",
    "    # Calculate the distance between the spacecraft and the final position of the Lyapunov orbit\n",
    "    d = distance([x, y], final_position)\n",
    "    \n",
    "    # Calculate the acceleration of the spacecraft\n",
    "    ax = -((1 - mu) * (x + mu)) / d ** 3 - (mu * (x - 1 + mu)) / d ** 3\n",
    "    ay = -((1 - mu) * y) / d ** 3 - (mu * y) / d ** 3\n",
    "    \n",
    "    return [vx, vy, ax, ay]\n",
    "\n",
    "# Function to calculate the distance between two points\n",
    "def distance(p1, p2):\n",
    "    return np.sqrt((p1[0] - p2[0]) ** 2 + (p1[1] - p2[1]) ** 2)"
   ]
  },
  {
   "cell_type": "code",
   "execution_count": null,
   "metadata": {},
   "outputs": [],
   "source": [
    "# plot result #\n",
    "solution = solve_ivp(lambda t, y: crtbp_equations(t, y, mu), t_span, corrected_initial_conditions, method='RK45',\n",
    "                            atol = 0.00001, rtol = 0.00001, max_step=0.001)\n",
    "x = solution.y[0]\n",
    "y = solution.y[1]\n",
    "plt.plot(x, y)\n",
    "plt.plot(0.836, 0.350, 'ro')\n",
    "plt.plot(0, 0, 'bo')\n",
    "plt.show()"
   ]
  },
  {
   "cell_type": "code",
   "execution_count": null,
   "metadata": {},
   "outputs": [],
   "source": [
    "# Heteroclinic Transfer #\n",
    "# Function to calculate the distance between two points\n",
    "def distance(p1, p2):\n",
    "    return np.sqrt((p1[0] - p2[0]) ** 2 + (p1[1] - p2[1]) ** 2)\n",
    "\n",
    "# Function to calculate the acceleration of the spacecraft\n",
    "def acceleration(t, y, mu, target_point, t_span):\n",
    "    x, y, vx, vy = y\n",
    "    \n",
    "    # Find the initial conditions of the Lyapunov orbit\n",
    "    initial_conditions = lyapunov_initial_conditions(mu, target_point, t_span)\n",
    "    \n",
    "    # Find the final position of the Lyapunov orbit\n",
    "    final_position = lyapunov_final_position(mu, initial_conditions, t_span)\n",
    "    \n",
    "    # Calculate the distance between the spacecraft and the final position of the Lyapunov orbit\n",
    "    d = distance([x, y], final_position)\n",
    "    \n",
    "    # Calculate the acceleration of the spacecraft\n",
    "    ax = -((1 - mu) * (x + mu)) / d ** 3 - (mu * (x - 1 + mu)) / d ** 3\n",
    "    ay = -((1 - mu) * y) / d ** 3 - (mu * y) / d ** 3\n",
    "    \n",
    "    return [vx, vy, ax, ay]\n",
    "\n"
   ]
  }
 ],
 "metadata": {
  "kernelspec": {
   "display_name": ".venv",
   "language": "python",
   "name": "python3"
  },
  "language_info": {
   "codemirror_mode": {
    "name": "ipython",
    "version": 3
   },
   "file_extension": ".py",
   "mimetype": "text/x-python",
   "name": "python",
   "nbconvert_exporter": "python",
   "pygments_lexer": "ipython3",
   "version": "3.8.16"
  },
  "orig_nbformat": 4
 },
 "nbformat": 4,
 "nbformat_minor": 2
}
