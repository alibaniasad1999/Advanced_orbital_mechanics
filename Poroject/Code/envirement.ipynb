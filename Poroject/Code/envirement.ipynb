{
 "cells": [
  {
   "cell_type": "code",
   "execution_count": null,
   "metadata": {},
   "outputs": [],
   "source": [
    "## three body envirement ##\n",
    "## f(x, u) ##\n",
    "## x = dot_x, dot_y, x, y ##\n",
    "## u_x, u_y ##"
   ]
  },
  {
   "cell_type": "code",
   "execution_count": null,
   "metadata": {},
   "outputs": [],
   "source": [
    "## import libraries ##\n",
    "import numpy as np"
   ]
  },
  {
   "cell_type": "code",
   "execution_count": null,
   "metadata": {},
   "outputs": [],
   "source": [
    "class ThreeBodyProblemEnv:\n",
    "    def __init__(self, mass1, mass2, mass3, initial_positions, initial_velocities, G=1.0):\n",
    "        self.mass1 = mass1\n",
    "        self.mass2 = mass2\n",
    "        self.mass3 = mass3\n",
    "        self.positions = np.array(initial_positions)\n",
    "        self.velocities = np.array(initial_velocities)\n",
    "        self.G = G\n",
    "\n",
    "    def step(self, actions):\n",
    "        # Calculate gravitational forces between the bodies\n",
    "        r12 = self.positions[1] - self.positions[0]\n",
    "        r13 = self.positions[2] - self.positions[0]\n",
    "        r23 = self.positions[2] - self.positions[1]\n",
    "        norm_r12 = np.linalg.norm(r12)\n",
    "        norm_r13 = np.linalg.norm(r13)\n",
    "        norm_r23 = np.linalg.norm(r23)\n",
    "\n",
    "        force12 = (self.G * self.mass1 * self.mass2) / (norm_r12 ** 3) * r12\n",
    "        force13 = (self.G * self.mass1 * self.mass3) / (norm_r13 ** 3) * r13\n",
    "        force23 = (self.G * self.mass2 * self.mass3) / (norm_r23 ** 3) * r23\n",
    "\n",
    "        # Calculate accelerations\n",
    "        acceleration1 = (force12 + force13) / self.mass1\n",
    "        acceleration2 = (-force12 + force23) / self.mass2\n",
    "        acceleration3 = (-force13 - force23) / self.mass3\n",
    "\n",
    "        # Update velocities and positions\n",
    "        self.velocities[0] += acceleration1\n",
    "        self.velocities[1] += acceleration2\n",
    "        self.velocities[2] += acceleration3\n",
    "\n",
    "        self.positions[0] += self.velocities[0]\n",
    "        self.positions[1] += self.velocities[1]\n",
    "        self.positions[2] += self.velocities[2]\n",
    "\n",
    "        # Calculate total reward based on the distance between the bodies\n",
    "        reward = -np.linalg.norm(self.positions[1] - self.positions[2])\n",
    "\n",
    "        done = False  # Termination condition (e.g., maximum number of steps or reaching a goal)\n",
    "\n",
    "        next_state = np.concatenate((self.positions, self.velocities))\n",
    "\n",
    "        return next_state, reward, done\n",
    "\n",
    "    def reset(self):\n",
    "        # Reset the environment to an initial state\n",
    "        return np.concatenate((self.positions, self.velocities))"
   ]
  },
  {
   "cell_type": "code",
   "execution_count": null,
   "metadata": {},
   "outputs": [],
   "source": [
    "## lyapunov orbit in L1 lagrangian point ##\n"
   ]
  }
 ],
 "metadata": {
  "language_info": {
   "name": "python"
  },
  "orig_nbformat": 4
 },
 "nbformat": 4,
 "nbformat_minor": 2
}
